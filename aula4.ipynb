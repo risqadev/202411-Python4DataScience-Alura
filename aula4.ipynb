{
 "cells": [
  {
   "cell_type": "markdown",
   "metadata": {
    "id": "AGc2Cf4cBwd7"
   },
   "source": [
    "# <font color=green> PYTHON PARA DATA SCIENCE\n",
    "---"
   ]
  },
  {
   "cell_type": "markdown",
   "metadata": {
    "id": "RxKC5WVoCYp3"
   },
   "source": [
    "## <font color=green> 4. LIDANDO COM EXCEÇÕES\n",
    "---"
   ]
  },
  {
   "cell_type": "markdown",
   "metadata": {
    "id": "MzOZ_0M3CU1x"
   },
   "source": [
    "Podemos notar em nosso caminho até aqui a existência de alguns erros e exceções na execução de algum comando. Como uma pessoa cientista de dados ou programador, você precisará estar atento a essas situações para evitar bugs ou problemas em seus códigos e análises que possam afetar a experiência tanto do usuário quanto a eficiência da sua análise.\n",
    "\n",
    "Existem basicamente duas formas distintas de erros: os **erros de sintaxe** e as **exceções**.\n",
    "\n",
    "Exceções são erros detectados durante a execução e que quebram o fluxo do programa encerrando-o caso não sejam tratadas.  \n",
    "\n",
    "Vamos aprender a identificar e tratar algumas das exceções aqui, mas é sempre importante mergulhar na documentação para pesquisar e verificar quais se enquadram nos seus projetos.\n",
    "\n",
    "**Documentação sobre erros e exceções:** https://docs.python.org/3/tutorial/errors.html"
   ]
  },
  {
   "cell_type": "markdown",
   "metadata": {
    "id": "x3E66krBST7K"
   },
   "source": [
    "### 4.1 Tratando Exceções"
   ]
  },
  {
   "cell_type": "markdown",
   "metadata": {},
   "source": [
    "O tratamento das exceções contribui estabelecendo um fluxo alternativo para a execução do código evitando a interrupção dos processos inesperadamente.\n",
    "\n",
    "Existe uma série de exceções e a partir do comportamento que queremos e dos erros que queremos tratar é possível construir um caminho para o usuário ou fornecer mais detalhes sobre aquela exceção.\n",
    "\n",
    "- Hierarquia das Exceções (https://docs.python.org/3/library/exceptions.html#exception-hierarchy)"
   ]
  },
  {
   "cell_type": "markdown",
   "metadata": {
    "id": "h9lj8Wfk__cl"
   },
   "source": [
    "#### Try ... Except"
   ]
  },
  {
   "cell_type": "markdown",
   "metadata": {},
   "source": [
    "```python\n",
    "try:\n",
    "  # código a ser executado. Caso uma exceção seja lançada, pare imediatamente\n",
    "except <nome_da_excecao as e>:\n",
    "  # Se uma exceção for lançada no try, rode esse código, senão pule esta etapa\n",
    "```"
   ]
  },
  {
   "cell_type": "markdown",
   "metadata": {
    "id": "miwzhPNdD8Ty"
   },
   "source": [
    "##### **Situação 12:**"
   ]
  },
  {
   "cell_type": "markdown",
   "metadata": {},
   "source": [
    "Você criou um código que lê um dicionário com as notas dos estudantes e quis retornar a lista de notas de um estudante.\n",
    "\n",
    "Caso o(a) estudante não esteja matriculado(a) na turma devemos tratar a exceção para aparecer a mensagem `\"Estudante não matriculado(a) na turma\"`.\n",
    "\n",
    "Vamos trabalhar nesse exemplo com a exceção **Key Error** que interromperá o processo desse pedaço do código.\n",
    "\n",
    "**Vamos testar esse primeiro tratamento?**"
   ]
  },
  {
   "cell_type": "code",
   "execution_count": 1,
   "metadata": {
    "id": "PkMmeYxaDcIF"
   },
   "outputs": [],
   "source": [
    "notas_por_aluno = {\n",
    "    'João': [8.0, 9.0, 10.0],\n",
    "    'Maria': [9.0, 7.0, 6.0],\n",
    "    'José': [3.4, 7.0, 8.0],\n",
    "    'Cláudia': [5.5, 6.6, 8.0],\n",
    "    'Ana': [6.0, 10.0, 9.5],\n",
    "    'Joaquim': [5.5, 7.5, 9.0],\n",
    "    'Júlia': [6.0, 8.0, 7.0],\n",
    "    'Pedro': [3.0, 4.0, 6.0]\n",
    "}"
   ]
  },
  {
   "cell_type": "code",
   "execution_count": 4,
   "metadata": {
    "id": "AudrLS-BGGEy"
   },
   "outputs": [
    {
     "ename": "KeyError",
     "evalue": "'Ricardo'",
     "output_type": "error",
     "traceback": [
      "\u001b[0;31m---------------------------------------------------------------------------\u001b[0m",
      "\u001b[0;31mKeyError\u001b[0m                                  Traceback (most recent call last)",
      "Cell \u001b[0;32mIn[4], line 3\u001b[0m\n\u001b[1;32m      1\u001b[0m nome_procurado \u001b[38;5;241m=\u001b[39m \u001b[38;5;28minput\u001b[39m(\u001b[38;5;124m'\u001b[39m\u001b[38;5;124mInforme o nome do(a) estudante: \u001b[39m\u001b[38;5;124m'\u001b[39m)\n\u001b[0;32m----> 3\u001b[0m resultado \u001b[38;5;241m=\u001b[39m \u001b[43mnotas_por_aluno\u001b[49m\u001b[43m[\u001b[49m\u001b[43mnome_procurado\u001b[49m\u001b[43m]\u001b[49m\n\u001b[1;32m      4\u001b[0m resultado\n",
      "\u001b[0;31mKeyError\u001b[0m: 'Ricardo'"
     ]
    }
   ],
   "source": [
    "nome_procurado = input('Informe o nome do(a) estudante: ')\n",
    "\n",
    "resultado = notas_por_aluno[nome_procurado]\n",
    "resultado"
   ]
  },
  {
   "cell_type": "code",
   "execution_count": 16,
   "metadata": {
    "id": "3oV8Bw-NGGiu"
   },
   "outputs": [
    {
     "name": "stdout",
     "output_type": "stream",
     "text": [
      "O estudante \"Ricardo\" não está matriculado na turma.\n"
     ]
    }
   ],
   "source": [
    "try:\n",
    "    nome_procurado = input('Informe o nome do(a) estudante: ')\n",
    "    resultado = notas_por_aluno[nome_procurado]\n",
    "except KeyError as e:\n",
    "    print(f\"O estudante \\\"{nome_procurado}\\\" não está matriculado na turma.\")"
   ]
  },
  {
   "cell_type": "markdown",
   "metadata": {
    "id": "hKhKzgQoBHLb"
   },
   "source": [
    "#### Adicionando o Else"
   ]
  },
  {
   "cell_type": "markdown",
   "metadata": {},
   "source": [
    "```python\n",
    "try:\n",
    "  # código a ser executado. Caso uma exceção seja lançada, pare imediatamente\n",
    "except:\n",
    "  # Se uma exceção for lançada no try, rode esse código, senão pule esta etapa\n",
    "else:\n",
    "  # Se não houver uma exeção lançada pelo try, rode essa parte\n",
    "```"
   ]
  },
  {
   "cell_type": "markdown",
   "metadata": {
    "id": "USN3SA2tMjL0"
   },
   "source": [
    "##### **Situação 13:**"
   ]
  },
  {
   "cell_type": "markdown",
   "metadata": {},
   "source": [
    "Você criou um código que lê um dicionário com as notas dos estudantes e quis retornar a lista de notas de um estudante. \n",
    "\n",
    "Caso o(a) estudante não esteja matriculado(a) na classe devemos tratar a exceção para aparecer a mensagem \"Estudante não matriculado(a) na turma\" e se a exceção não for lançada devemos exibir a lista com as notas do(a) estudante. \n",
    "\n",
    "Vamos trabalhar nesse exemplo com a exceção **Key Error** que interromperá o processo desse pedaço do código. \n",
    "\n",
    "**Vamos testar esse tratamento?**"
   ]
  },
  {
   "cell_type": "code",
   "execution_count": null,
   "metadata": {
    "id": "zCdjBCDFLE_6"
   },
   "outputs": [],
   "source": [
    "notas_por_aluno = {\n",
    "    'João': [8.0, 9.0, 10.0],\n",
    "    'Maria': [9.0, 7.0, 6.0],\n",
    "    'José': [3.4, 7.0, 8.0],\n",
    "    'Cláudia': [5.5, 6.6, 8.0],\n",
    "    'Ana': [6.0, 10.0, 9.5],\n",
    "    'Joaquim': [5.5, 7.5, 9.0],\n",
    "    'Júlia': [6.0, 8.0, 7.0],\n",
    "    'Pedro': [3.0, 4.0, 6.0]\n",
    "}"
   ]
  },
  {
   "cell_type": "code",
   "execution_count": 19,
   "metadata": {
    "id": "NS4vABJPDcFN"
   },
   "outputs": [
    {
     "name": "stdout",
     "output_type": "stream",
     "text": [
      "Notas de Joaquim: [5.5, 7.5, 9.0]\n"
     ]
    }
   ],
   "source": [
    "try:\n",
    "    nome_procurado = input('Informe o nome do(a) estudante: ')\n",
    "    resultado = notas_por_aluno[nome_procurado]\n",
    "    #print(resultado)\n",
    "except KeyError as e:\n",
    "    print(f\"O estudante \\\"{nome_procurado}\\\" não está matriculado(a) na turma.\")\n",
    "else:\n",
    "    print(f\"Notas de {nome_procurado}:\", resultado)"
   ]
  },
  {
   "cell_type": "markdown",
   "metadata": {
    "id": "Dw_efTlbBhll"
   },
   "source": [
    "#### Adicionando o finally"
   ]
  },
  {
   "cell_type": "markdown",
   "metadata": {},
   "source": [
    "```python\n",
    "try:\n",
    "  # código a ser executado. Caso uma exceção seja lançada, pare imediatamente\n",
    "except:\n",
    "  # Se uma exceção for lançada no try, rode esse código, senão pule esta etapa\n",
    "else:\n",
    "  # Se não houver uma exeção lançada pelo try, rode essa parte\n",
    "finally:\n",
    "  # Rode essa parte (com ou sem exceção)\n",
    "```"
   ]
  },
  {
   "cell_type": "markdown",
   "metadata": {
    "id": "jGtFVx5GdnsS"
   },
   "source": [
    "##### **Situação 14:**"
   ]
  },
  {
   "cell_type": "markdown",
   "metadata": {},
   "source": [
    "Você criou um código que lê um dicionário com as notas dos estudantes e quis retornar a lista de notas de um estudante. \n",
    "\n",
    "Caso o(a) estudante não esteja matriculado(a) na classe devemos tratar a exceção para aparecer a mensagem \"Estudante não matriculado(a) na turma\" e se a exceção não for lançada devemos exibir a lista com as notas do(a) estudante. Um texto avisando que `\"A consulta foi encerrada!\"` deve ser exibido com ou sem a exceção ser lançada.\n",
    "\n",
    "Vamos trabalhar nesse exemplo com a exceção **Key Error** que interromperá o processo desse pedaço do código. \n",
    "\n",
    "**Vamos testar esse tratamento?**"
   ]
  },
  {
   "cell_type": "code",
   "execution_count": null,
   "metadata": {
    "id": "uOLFoYweLN9W"
   },
   "outputs": [],
   "source": [
    "notas_por_aluno = {\n",
    "    'João': [8.0, 9.0, 10.0],\n",
    "    'Maria': [9.0, 7.0, 6.0],\n",
    "    'José': [3.4, 7.0, 8.0],\n",
    "    'Cláudia': [5.5, 6.6, 8.0],\n",
    "    'Ana': [6.0, 10.0, 9.5],\n",
    "    'Joaquim': [5.5, 7.5, 9.0],\n",
    "    'Júlia': [6.0, 8.0, 7.0],\n",
    "    'Pedro': [3.0, 4.0, 6.0]\n",
    "}"
   ]
  },
  {
   "cell_type": "code",
   "execution_count": 20,
   "metadata": {
    "id": "U8QCogXhBi8C"
   },
   "outputs": [
    {
     "name": "stdout",
     "output_type": "stream",
     "text": [
      "O estudante \"Bruno\" não está matriculado(a) na turma.\n",
      "A consulta foi encerrada!\n"
     ]
    }
   ],
   "source": [
    "try:\n",
    "    nome_procurado = input('Informe o nome do(a) estudante: ')\n",
    "    resultado = notas_por_aluno[nome_procurado]\n",
    "    #print(resultado)\n",
    "except KeyError as e:\n",
    "    print(f\"O estudante \\\"{nome_procurado}\\\" não está matriculado(a) na turma.\")\n",
    "else:\n",
    "    print(f\"Notas de {nome_procurado}:\", resultado)\n",
    "finally:\n",
    "    print(\"A consulta foi encerrada!\")"
   ]
  },
  {
   "cell_type": "markdown",
   "metadata": {
    "id": "HdjllLBpST_2"
   },
   "source": [
    "### 4.2 Raise"
   ]
  },
  {
   "cell_type": "markdown",
   "metadata": {},
   "source": [
    "Uma outra forma de trabalhar com as exceções em seu código, é criar as suas próprias exceções para determinados comportamentos que deseja em seu código. \n",
    "\n",
    "Para isso, utilizamos a palavra-chave `raise` junto ao tipo de exceção que deseja lançar e uma mensagem a ser exibida.\n",
    "\n",
    "```python\n",
    "raise NomeDoErro(\"mensagem_desejada\")\n",
    "```"
   ]
  },
  {
   "cell_type": "markdown",
   "metadata": {
    "id": "xapeB2ivgB7R"
   },
   "source": [
    "##### **Situação 15:**"
   ]
  },
  {
   "cell_type": "markdown",
   "metadata": {},
   "source": [
    "Você criou uma função para calcular a média de um estudante em uma dada matéria passando em uma lista as notas deste estudante.\n",
    "\n",
    "Você pretende tratar 2 situações:\n",
    "- Se a lista possuir um valor não numérico o cálculo de média não será executado e uma mensagem de `\"Não foi possível calcular a média do(a) estudante. Só são aceitos valores numéricos!\"` será exibida.\n",
    "- Caso a lista tenha mais de 4 notas, será lançada uma exceção do tipo **ValueError** informando que `\"A lista não pode possuir mais de 4 notas.\"`\n",
    "\n",
    "Um texto avisando que \"A consulta foi encerrada!\" deve ser exibido com ou sem a exceção ser lançada.\n",
    "\n",
    "**Vamos resolver esse desafio?**"
   ]
  },
  {
   "cell_type": "code",
   "execution_count": 26,
   "metadata": {
    "id": "Hf7MQtMjSXS-"
   },
   "outputs": [],
   "source": [
    "def media(lista: list=[0]) -> float:\n",
    "  ''' Função para calcular a média de notas passadas por uma lista\n",
    "\n",
    "  lista: list, default [0]\n",
    "    Lista com as notas para calcular a média\n",
    "  return = calculo: float\n",
    "    Média calculada\n",
    "  '''\n",
    "\n",
    "  if len(lista) > 4:\n",
    "    raise ValueError(\"A lista não pode possuir mais de 4 notas.\")\n",
    "  \n",
    "  try:\n",
    "    media = sum(lista) / len(lista)\n",
    "  except TypeError:\n",
    "    raise TypeError(\"Não foi possível calcular a média do(a) estudante. Só são aceitos valores numéricos!\")\n",
    "\n",
    "  return media"
   ]
  },
  {
   "cell_type": "code",
   "execution_count": 27,
   "metadata": {
    "id": "gnlcrP93k8f2"
   },
   "outputs": [
    {
     "ename": "TypeError",
     "evalue": "Não foi possível calcular a média do(a) estudante. Só são aceitos valores numéricos!",
     "output_type": "error",
     "traceback": [
      "\u001b[0;31m---------------------------------------------------------------------------\u001b[0m",
      "\u001b[0;31mTypeError\u001b[0m                                 Traceback (most recent call last)",
      "Cell \u001b[0;32mIn[26], line 14\u001b[0m, in \u001b[0;36mmedia\u001b[0;34m(lista)\u001b[0m\n\u001b[1;32m     13\u001b[0m \u001b[38;5;28;01mtry\u001b[39;00m:\n\u001b[0;32m---> 14\u001b[0m   media \u001b[38;5;241m=\u001b[39m \u001b[38;5;28;43msum\u001b[39;49m\u001b[43m(\u001b[49m\u001b[43mlista\u001b[49m\u001b[43m)\u001b[49m \u001b[38;5;241m/\u001b[39m \u001b[38;5;28mlen\u001b[39m(lista)\n\u001b[1;32m     15\u001b[0m \u001b[38;5;28;01mexcept\u001b[39;00m \u001b[38;5;167;01mTypeError\u001b[39;00m:\n",
      "\u001b[0;31mTypeError\u001b[0m: unsupported operand type(s) for +: 'int' and 'str'",
      "\nDuring handling of the above exception, another exception occurred:\n",
      "\u001b[0;31mTypeError\u001b[0m                                 Traceback (most recent call last)",
      "Cell \u001b[0;32mIn[27], line 1\u001b[0m\n\u001b[0;32m----> 1\u001b[0m \u001b[43mmedia\u001b[49m\u001b[43m(\u001b[49m\u001b[43m[\u001b[49m\u001b[38;5;241;43m9\u001b[39;49m\u001b[43m,\u001b[49m\u001b[43m \u001b[49m\u001b[38;5;241;43m8\u001b[39;49m\u001b[43m,\u001b[49m\u001b[43m \u001b[49m\u001b[38;5;241;43m7\u001b[39;49m\u001b[43m,\u001b[49m\u001b[43m \u001b[49m\u001b[38;5;124;43m'\u001b[39;49m\u001b[38;5;124;43m6\u001b[39;49m\u001b[38;5;124;43m'\u001b[39;49m\u001b[43m]\u001b[49m\u001b[43m)\u001b[49m\n",
      "Cell \u001b[0;32mIn[26], line 16\u001b[0m, in \u001b[0;36mmedia\u001b[0;34m(lista)\u001b[0m\n\u001b[1;32m     14\u001b[0m   media \u001b[38;5;241m=\u001b[39m \u001b[38;5;28msum\u001b[39m(lista) \u001b[38;5;241m/\u001b[39m \u001b[38;5;28mlen\u001b[39m(lista)\n\u001b[1;32m     15\u001b[0m \u001b[38;5;28;01mexcept\u001b[39;00m \u001b[38;5;167;01mTypeError\u001b[39;00m:\n\u001b[0;32m---> 16\u001b[0m   \u001b[38;5;28;01mraise\u001b[39;00m \u001b[38;5;167;01mTypeError\u001b[39;00m(\u001b[38;5;124m\"\u001b[39m\u001b[38;5;124mNão foi possível calcular a média do(a) estudante. Só são aceitos valores numéricos!\u001b[39m\u001b[38;5;124m\"\u001b[39m)\n\u001b[1;32m     18\u001b[0m \u001b[38;5;28;01mreturn\u001b[39;00m media\n",
      "\u001b[0;31mTypeError\u001b[0m: Não foi possível calcular a média do(a) estudante. Só são aceitos valores numéricos!"
     ]
    }
   ],
   "source": [
    "media([9, 8, 7, '6'])"
   ]
  },
  {
   "cell_type": "code",
   "execution_count": 23,
   "metadata": {
    "id": "IprXe3qalX5J"
   },
   "outputs": [
    {
     "ename": "ValueError",
     "evalue": "A lista não pode possuir mais de 4 notas.",
     "output_type": "error",
     "traceback": [
      "\u001b[0;31m---------------------------------------------------------------------------\u001b[0m",
      "\u001b[0;31mValueError\u001b[0m                                Traceback (most recent call last)",
      "Cell \u001b[0;32mIn[23], line 1\u001b[0m\n\u001b[0;32m----> 1\u001b[0m \u001b[43mmedia\u001b[49m\u001b[43m(\u001b[49m\u001b[43m[\u001b[49m\u001b[38;5;241;43m9\u001b[39;49m\u001b[43m,\u001b[49m\u001b[43m \u001b[49m\u001b[38;5;241;43m8\u001b[39;49m\u001b[43m,\u001b[49m\u001b[43m \u001b[49m\u001b[38;5;241;43m7\u001b[39;49m\u001b[43m,\u001b[49m\u001b[43m \u001b[49m\u001b[38;5;241;43m6\u001b[39;49m\u001b[43m,\u001b[49m\u001b[43m \u001b[49m\u001b[38;5;241;43m10\u001b[39;49m\u001b[43m]\u001b[49m\u001b[43m)\u001b[49m\n",
      "Cell \u001b[0;32mIn[21], line 11\u001b[0m, in \u001b[0;36mmedia\u001b[0;34m(lista)\u001b[0m\n\u001b[1;32m      2\u001b[0m \u001b[38;5;250m\u001b[39m\u001b[38;5;124;03m''' Função para calcular a média de notas passadas por uma lista\u001b[39;00m\n\u001b[1;32m      3\u001b[0m \n\u001b[1;32m      4\u001b[0m \u001b[38;5;124;03mlista: list, default [0]\u001b[39;00m\n\u001b[0;32m   (...)\u001b[0m\n\u001b[1;32m      7\u001b[0m \u001b[38;5;124;03m  Média calculada\u001b[39;00m\n\u001b[1;32m      8\u001b[0m \u001b[38;5;124;03m'''\u001b[39;00m\n\u001b[1;32m     10\u001b[0m \u001b[38;5;28;01mif\u001b[39;00m \u001b[38;5;28mlen\u001b[39m(lista) \u001b[38;5;241m>\u001b[39m \u001b[38;5;241m4\u001b[39m:\n\u001b[0;32m---> 11\u001b[0m   \u001b[38;5;28;01mraise\u001b[39;00m \u001b[38;5;167;01mValueError\u001b[39;00m(\u001b[38;5;124m\"\u001b[39m\u001b[38;5;124mA lista não pode possuir mais de 4 notas.\u001b[39m\u001b[38;5;124m\"\u001b[39m)\n\u001b[1;32m     13\u001b[0m \u001b[38;5;28;01mreturn\u001b[39;00m \u001b[38;5;28msum\u001b[39m(lista) \u001b[38;5;241m/\u001b[39m \u001b[38;5;28mlen\u001b[39m(lista)\n",
      "\u001b[0;31mValueError\u001b[0m: A lista não pode possuir mais de 4 notas."
     ]
    }
   ],
   "source": [
    "media([9, 8, 7, 6, 10])"
   ]
  },
  {
   "cell_type": "code",
   "execution_count": 42,
   "metadata": {
    "id": "lO8OCMRzSXQv"
   },
   "outputs": [
    {
     "name": "stdout",
     "output_type": "stream",
     "text": [
      "A lista não pode possuir mais de 4 notas.\n",
      "A consulta foi encerrada!\n"
     ]
    }
   ],
   "source": [
    "try:\n",
    "    media = media([9, 8, 7, 6, 5])\n",
    "except (ValueError, TypeError) as e:\n",
    "    print(e)\n",
    "else:\n",
    "    print(media)\n",
    "finally:\n",
    "    print(\"A consulta foi encerrada!\")"
   ]
  },
  {
   "cell_type": "code",
   "execution_count": 41,
   "metadata": {
    "id": "A-rA3l4hm4RA"
   },
   "outputs": [
    {
     "name": "stdout",
     "output_type": "stream",
     "text": [
      "Não foi possível calcular a média do(a) estudante. Só são aceitos valores numéricos!\n",
      "A consulta foi encerrada!\n"
     ]
    }
   ],
   "source": [
    "try:\n",
    "    media = media([9, 8, 7, '6'])\n",
    "except (ValueError, TypeError) as e:\n",
    "    print(e)\n",
    "else:\n",
    "    print(media)\n",
    "finally:\n",
    "    print(\"A consulta foi encerrada!\")"
   ]
  },
  {
   "cell_type": "code",
   "execution_count": 43,
   "metadata": {
    "id": "Jf3Sg5H-m4Za"
   },
   "outputs": [
    {
     "name": "stdout",
     "output_type": "stream",
     "text": [
      "7.5\n",
      "A consulta foi encerrada!\n"
     ]
    }
   ],
   "source": [
    "try:\n",
    "    media = media([9, 8, 7, 6])\n",
    "except (ValueError, TypeError) as e:\n",
    "    print(e)\n",
    "else:\n",
    "    print(media)\n",
    "finally:\n",
    "    print(\"A consulta foi encerrada!\")"
   ]
  },
  {
   "cell_type": "markdown",
   "metadata": {},
   "source": [
    "### Prática"
   ]
  },
  {
   "cell_type": "markdown",
   "metadata": {},
   "source": [
    "Vamos praticar o que aprendemos até aqui solucionando os problemas propostos em código.\n",
    "\n",
    "**Aquecimento**"
   ]
  },
  {
   "cell_type": "markdown",
   "metadata": {},
   "source": [
    "#### Questão 1"
   ]
  },
  {
   "cell_type": "markdown",
   "metadata": {},
   "source": [
    "Faça um programa que solicite à pessoa usuária digitar dois números `float` e calcular a divisão entre esses números. O código deve conter um tratamento de erro, indicando o tipo de erro que foi gerado caso a divisão não seja possível de realizar.\n",
    "\n",
    "Teste o programa com o segundo valor numérico do input igual a 0. Também teste utilizando caracteres textuais no input para checar os tipos de erro que ocorrem."
   ]
  },
  {
   "cell_type": "code",
   "execution_count": 53,
   "metadata": {},
   "outputs": [
    {
     "name": "stdout",
     "output_type": "stream",
     "text": [
      "O divisor não pode ser 0.\n"
     ]
    }
   ],
   "source": [
    "\n",
    "try:\n",
    "    dividendo = float(input(\"Informe o dividendo: \"))\n",
    "    divisor = float(input(\"Informe o divisor: \"))\n",
    "\n",
    "    quociente = dividendo / divisor\n",
    "except ValueError:\n",
    "    print(\"Informe valores numéricos.\")\n",
    "except ZeroDivisionError:\n",
    "    print(\"O divisor não pode ser 0.\")\n",
    "else:\n",
    "    print(f\"{dividendo} ÷ {divisor} = {quociente}\")"
   ]
  },
  {
   "cell_type": "markdown",
   "metadata": {},
   "source": [
    "#### Questão 2"
   ]
  },
  {
   "cell_type": "markdown",
   "metadata": {},
   "source": [
    "Faça um programa que solicite à pessoa usuária digitar um texto que será uma chave a ser pesquisada no seguinte dicionário `idades = {'Júlia': 16, 'Carol': 23, 'Alberto': 19, 'Roberta': 17}` armazenando o resultado do valor em uma variável. O código deve conter um tratamento de erro `KeyError`, imprimindo a informação `'Nome não encontrado'`, caso ocorra o erro; e imprimir o valor caso não ocorra nenhum.\n",
    "\n",
    "Teste o programa com um nome presente em uma das chaves do dicionário e com um que não esteja no dicionário para verificar a mensagem de erro."
   ]
  },
  {
   "cell_type": "code",
   "execution_count": null,
   "metadata": {},
   "outputs": [
    {
     "name": "stdout",
     "output_type": "stream",
     "text": [
      "Nome não encontrado\n"
     ]
    }
   ],
   "source": [
    "idades = {'Júlia': 16, 'Carol': 23, 'Alberto': 19, 'Roberta': 17}\n",
    "\n",
    "chave = input('Informe o nome: ')\n",
    "\n",
    "try:\n",
    "    idade = idades[chave]\n",
    "except KeyError:\n",
    "    print('Nome não encontrado.')\n",
    "else:\n",
    "    print(f'A idade de {chave} é {idade}.')"
   ]
  },
  {
   "cell_type": "markdown",
   "metadata": {},
   "source": [
    "#### Questão 3"
   ]
  },
  {
   "cell_type": "markdown",
   "metadata": {},
   "source": [
    "Crie uma função que recebe uma lista como parâmetro e converta todos os valores da lista para `float`. A função deve conter um tratamento de erro indicando o tipo de erro gerado e retornar a lista caso não tenha ocorrido nenhum erro. Por fim, deve ter a cláusula `finally` para imprimir o texto: `'Fim da execução da função'`."
   ]
  },
  {
   "cell_type": "code",
   "execution_count": 67,
   "metadata": {},
   "outputs": [
    {
     "name": "stdout",
     "output_type": "stream",
     "text": [
      "Fim da execução da função.\n"
     ]
    },
    {
     "data": {
      "text/plain": [
       "[1.0, 2.0, 3.0, 4.5]"
      ]
     },
     "execution_count": 67,
     "metadata": {},
     "output_type": "execute_result"
    }
   ],
   "source": [
    "lista = [1, 2, 3, 4.5]\n",
    "\n",
    "def converter_para_float(lista):\n",
    "    try:\n",
    "        nova = list(map(lambda item: float(item), lista))\n",
    "    except ValueError:\n",
    "        print('A lista deve conter apenas números.')\n",
    "    else:\n",
    "        return nova\n",
    "    finally:\n",
    "        print('Fim da execução da função.')\n",
    "    \n",
    "\n",
    "converter_para_float(lista)"
   ]
  },
  {
   "cell_type": "markdown",
   "metadata": {},
   "source": [
    "#### Questão 4"
   ]
  },
  {
   "cell_type": "markdown",
   "metadata": {},
   "source": [
    "Crie uma função que recebe duas listas como parâmetros e agrupe os elementos um a um das listas, formando uma lista de tuplas de 3 elementos, no qual o primeiro e segundo elemento da tupla são os valores na posição `i` das listas e o terceiro elemento é a soma dos valores na posição `i` das listas.\n",
    "\n",
    "A função deve conter um tratamento de erro indicando o tipo de erro gerado e retornar como resultado a lista de tuplas. Caso as listas enviadas como parâmetro tenham tamanhos diferentes, a função deve retornar um `IndexError` com a frase: `'A quantidade de elementos em cada lista é diferente.'`.\n",
    "\n",
    "Dados para testar a função:\n",
    "\n",
    "Valores sem erro:\n",
    "\n",
    "```python\n",
    "lista1 = [4,6,7,9,10]\n",
    "lista2 = [-4,6,8,7,9]\n",
    "```\n",
    "\n",
    "Listas com tamanhos diferentes:\n",
    "\n",
    "```python\n",
    "lista1 = [4,6,7,9,10,4]\n",
    "lista2 = [-4,6,8,7,9]\n",
    "```\n",
    "\n",
    "Listas com valores incoerentes:\n",
    "\n",
    "```python\n",
    "lista1 = [4,6,7,9,'A']\n",
    "lista2 = [-4,'E',8,7,9]\n",
    "```"
   ]
  },
  {
   "cell_type": "code",
   "execution_count": 88,
   "metadata": {},
   "outputs": [],
   "source": [
    "def agrupa_e_soma(l1: list, l2: list):\n",
    "    if len(l1) != len(l2):\n",
    "        print('A quantidade de elementos em cada lista é diferente.')\n",
    "        return\n",
    "    try:\n",
    "        return [(a, b, a+b) for a, b in zip(l1, l2)]\n",
    "    except TypeError:\n",
    "        print('Todos os elementos de ambas as listas devem ser números.')"
   ]
  },
  {
   "cell_type": "code",
   "execution_count": 89,
   "metadata": {},
   "outputs": [
    {
     "data": {
      "text/plain": [
       "[(4, -4, 0), (6, 6, 12), (7, 8, 15), (9, 7, 16), (10, 9, 19)]"
      ]
     },
     "execution_count": 89,
     "metadata": {},
     "output_type": "execute_result"
    }
   ],
   "source": [
    "lista1 = [4,6,7,9,10]\n",
    "lista2 = [-4,6,8,7,9]\n",
    "\n",
    "agrupa_e_soma(lista1, lista2)"
   ]
  },
  {
   "cell_type": "code",
   "execution_count": 90,
   "metadata": {},
   "outputs": [
    {
     "name": "stdout",
     "output_type": "stream",
     "text": [
      "A quantidade de elementos em cada lista é diferente.\n"
     ]
    }
   ],
   "source": [
    "lista1 = [4,6,7,9,10,4]\n",
    "lista2 = [-4,6,8,7,9]\n",
    "\n",
    "agrupa_e_soma(lista1, lista2)"
   ]
  },
  {
   "cell_type": "code",
   "execution_count": 91,
   "metadata": {},
   "outputs": [
    {
     "name": "stdout",
     "output_type": "stream",
     "text": [
      "Todos os elementos de ambas as listas devem ser números.\n"
     ]
    }
   ],
   "source": [
    "lista1 = [4,6,7,9,'A']\n",
    "lista2 = [-4,'E',8,7,9]\n",
    "\n",
    "agrupa_e_soma(lista1, lista2)"
   ]
  },
  {
   "cell_type": "markdown",
   "metadata": {},
   "source": [
    "#### Questão 5"
   ]
  },
  {
   "cell_type": "markdown",
   "metadata": {},
   "source": [
    "Como desafio, você recebeu a tarefa de desenvolver um código que contabiliza as pontuações de estudantes de uma instituição de ensino de acordo com suas respostas num teste. Este código deve ser testado para um exemplo de 3 estudantes com uma lista de listas em que cada lista possui as respostas de 5 questões objetivas de cada estudante. Cada questão vale um ponto e as alternativas possíveis são `A`, `B`, `C` ou `D`.\n",
    "\n",
    "Caso alguma alternativa em um dos testes não esteja entre as alternativas possíveis, você deve lançar um ValueError com a mensagem `\"A alternativa [alternativa] não é uma opção de alternativa válida\"`. O cálculo das 3 notas só será realizado mediante as entradas com as alternativas `A`, `B`, `C` ou `D` em todos os testes. Se não for lançada a exceção, será exibida uma lista com as notas em cada teste.\n",
    "\n",
    "Os dados para o teste do código são:\n",
    "\n",
    "Gabarito da prova:\n",
    "\n",
    "```python\n",
    "gabarito = ['D', 'A', 'B', 'C', 'A']\n",
    "```\n",
    "\n",
    "Abaixo temos 2 listas de listas que você pode usar como teste\n",
    "\n",
    "Notas sem exceção:\n",
    "\n",
    "```python\n",
    "testes_sem_ex = [['D', 'A', 'B', 'C', 'A'], ['C', 'A', 'A', 'C', 'A'], ['D', 'B', 'A', 'C', 'A']]\n",
    "```\n",
    "\n",
    "Notas com exceção:\n",
    "\n",
    "```python\n",
    "testes_com_ex = [['D', 'A', 'B', 'C', 'A'], ['C', 'A', 'A', 'E', 'A'], ['D', 'B', 'A', 'C', 'A']]\n",
    "```\n",
    "\n",
    "```\n",
    "Dica: Para verificar se uma entrada da lista não está entre as alternativas possíveis, use a estrutura lista[i] not in ['A','B','C','D']. Por exemplo, 1 not in [2,3,4]... Saída: True.\n",
    "```"
   ]
  },
  {
   "cell_type": "code",
   "execution_count": 35,
   "metadata": {},
   "outputs": [],
   "source": [
    "def confere_gabarito(respostas: list[chr], gabarito: list[chr]) -> int:\n",
    "    nota = 0\n",
    "    for r, g in zip(respostas, gabarito):\n",
    "        if r not in ['A','B','C','D']:\n",
    "            raise ValueError(f'A alternativa {r} não é uma opção de alternativa válida')\n",
    "        elif r == g:\n",
    "            nota = nota + 1\n",
    "    return nota\n",
    "\n",
    "def confere_varias(listas_respostas: list[list[chr]], gabarito: list[chr]) -> list[int]:\n",
    "    notas = []\n",
    "    for respostas in listas_respostas:\n",
    "        notas.append(confere_gabarito(respostas, gabarito))\n",
    "    return notas"
   ]
  },
  {
   "cell_type": "code",
   "execution_count": 36,
   "metadata": {},
   "outputs": [],
   "source": [
    "gabarito = ['D', 'A', 'B', 'C', 'A']"
   ]
  },
  {
   "cell_type": "code",
   "execution_count": 37,
   "metadata": {},
   "outputs": [],
   "source": [
    "testes_sem_ex = [['D', 'A', 'B', 'C', 'A'], ['C', 'A', 'A', 'C', 'A'], ['D', 'B', 'A', 'C', 'A']]\n",
    "\n",
    "try:\n",
    "    confere_varias(testes_sem_ex, gabarito)\n",
    "except ValueError as e:\n",
    "    print(type(e), e)"
   ]
  },
  {
   "cell_type": "code",
   "execution_count": 38,
   "metadata": {},
   "outputs": [
    {
     "name": "stdout",
     "output_type": "stream",
     "text": [
      "<class 'ValueError'> A alternativa E não é uma opção de alternativa válida\n"
     ]
    }
   ],
   "source": [
    "testes_com_ex = [['D', 'A', 'B', 'C', 'A'], ['C', 'A', 'A', 'E', 'A'], ['D', 'B', 'A', 'C', 'A']]\n",
    "\n",
    "try:\n",
    "    confere_varias(testes_com_ex, gabarito)\n",
    "except ValueError as e:\n",
    "    print(type(e), e)"
   ]
  },
  {
   "cell_type": "markdown",
   "metadata": {},
   "source": [
    "#### Questão 6"
   ]
  },
  {
   "cell_type": "markdown",
   "metadata": {},
   "source": [
    "Você está trabalhando com processamento de linguagem natural (NLP) e, dessa vez, sua líder requisitou que você criasse um trecho de código que recebe uma lista com as palavras separadas de uma frase gerada pelo ChatGPT.\n",
    "\n",
    "Você precisa criar uma função que avalia cada palavra desse texto e verificar se o tratamento para retirar os símbolos de pontuação (`,` `.`, `!` e `?`) foi realizado. Caso contrário, será lançada uma exceção do tipo `ValueError` apontando o 1º caso em que foi detectado o uso de uma pontuação por meio da frase `\"O texto apresenta pontuações na palavra \"[palavra]\".\"`. Essa demanda é voltada para a análise do padrão de frases geradas pela inteligência artificial.\n",
    "\n",
    "Dica: Para verificar se uma ou mais das pontuações estão presentes em cada palavra, utilize a palavra chave `or` na condição `if`. Por exemplo, `'a' in 'alura' or 'b' in 'alura'`… Saída: `True`\n",
    "\n",
    "Os dados para o teste do código são:\n",
    "\n",
    "Lista tratada:\n",
    "\n",
    "```python\n",
    "lista_tratada = ['Python', 'é', 'uma', 'linguagem', 'de', 'programação', 'poderosa', 'versátil',\n",
    "                  'e', 'fácil', 'de', 'aprender', 'utilizada', 'em', 'diversos', 'campos', 'desde',\n",
    "                  'análise', 'de', 'dados', 'até', 'inteligência', 'artificial']\n",
    "```\n",
    "\n",
    "Lista não tratada:\n",
    "\n",
    "```python\n",
    "lista_nao_tratada = ['Python', 'é', 'uma', 'linguagem', 'de', 'programação', 'poderosa,', 'versátil',\n",
    "                  'e', 'fácil,', 'de', 'aprender', 'utilizada', 'em', 'diversos', 'campos,', 'desde',\n",
    "                  'análise', 'de', 'dados', 'até', 'inteligência', 'artificial!']\n",
    "```"
   ]
  },
  {
   "cell_type": "code",
   "execution_count": 1,
   "metadata": {},
   "outputs": [],
   "source": [
    "caracteres_invalidos = [',', '.', '!', '?']\n",
    "\n",
    "lista_tratada = ['Python', 'é', 'uma', 'linguagem', 'de', 'programação', 'poderosa', 'versátil',\n",
    "                  'e', 'fácil', 'de', 'aprender', 'utilizada', 'em', 'diversos', 'campos', 'desde',\n",
    "                  'análise', 'de', 'dados', 'até', 'inteligência', 'artificial']\n",
    "\n",
    "lista_nao_tratada = ['Python', 'é', 'uma', 'linguagem', 'de', 'programação', 'poderosa,', 'versátil',\n",
    "                  'e', 'fácil,', 'de', 'aprender', 'utilizada', 'em', 'diversos', 'campos,', 'desde',\n",
    "                  'análise', 'de', 'dados', 'até', 'inteligência', 'artificial!']"
   ]
  },
  {
   "cell_type": "code",
   "execution_count": 27,
   "metadata": {},
   "outputs": [],
   "source": [
    "# uma forma de fazer:\n",
    "\n",
    "def verifica_pontuacao(palavras: list[str], invalidos: list[chr]):\n",
    "    for palavra in palavras:\n",
    "        for caractere in palavra:\n",
    "            if caractere in invalidos:\n",
    "                raise ValueError(f'O texto apresenta pontuações na palavra \"{palavra}\".')"
   ]
  },
  {
   "cell_type": "code",
   "execution_count": 28,
   "metadata": {},
   "outputs": [],
   "source": [
    "# outra forma de fazer:\n",
    "\n",
    "def verifica_pontuacao(palavras: list[str], invalidos: list[chr]):\n",
    "    for palavra in palavras:\n",
    "        if any(char in palavra for char in invalidos):\n",
    "            raise ValueError(f'O texto apresenta pontuações na palavra \"{palavra}\".')"
   ]
  },
  {
   "cell_type": "code",
   "execution_count": 33,
   "metadata": {},
   "outputs": [],
   "source": [
    "try:\n",
    "    verifica_pontuacao(lista_tratada, caracteres_invalidos)\n",
    "except ValueError as e:\n",
    "    print(type(e), e)"
   ]
  },
  {
   "cell_type": "code",
   "execution_count": 32,
   "metadata": {},
   "outputs": [
    {
     "name": "stdout",
     "output_type": "stream",
     "text": [
      "<class 'ValueError'> O texto apresenta pontuações na palavra \"poderosa,\".\n"
     ]
    }
   ],
   "source": [
    "try:\n",
    "    verifica_pontuacao(lista_nao_tratada, caracteres_invalidos)\n",
    "except ValueError as e:\n",
    "    print(type(e), e)"
   ]
  },
  {
   "cell_type": "markdown",
   "metadata": {},
   "source": [
    "#### Questão 7"
   ]
  },
  {
   "cell_type": "markdown",
   "metadata": {},
   "source": [
    "Você foi contratado(a) como uma pessoa cientista de dados para auxiliar um laboratório que faz experimentos sobre o comportamento de uma cultura de fungos. O laboratório precisa avaliar constantemente a razão (divisão) entre os dados de pressão e temperatura do ambiente controlado recolhidos durante a experimentação para definir a melhor condição para os testes.\n",
    "\n",
    "Para cumprir com a demanda, você precisa criar uma função `divide_colunas` que recebe os dados das colunas de pressão e temperatura (que vem no formato de listas) e gerar uma nova coluna com o resultado da divisão. Os parâmetros da função são as duas listas e você deve tratar dentro dela ao menos 2 tipos de exceções:\n",
    "\n",
    "- Verificar se as listas têm o mesmo tamanho (`ValueError`)\n",
    "\n",
    "- Verificar se existe alguma divisão por zero (`ZeroDivisionError`)\n",
    "\n",
    "Para testar a função, vamos realizar a divisão entre duas listas de dados coletados no experimento, com os valores de pressão e temperatura do ambiente controlado.\n",
    "\n",
    "Como teste, use os seguintes dados:\n",
    "\n",
    "Dados sem exceção:\n",
    "\n",
    "```python\n",
    "pressoes = [100, 120, 140, 160, 180]\n",
    "temperaturas = [20, 25, 30, 35, 40]\n",
    "```\n",
    "\n",
    "Dados com exceção:\n",
    "\n",
    "1) Exceção de ZeroDivisionError\n",
    "\n",
    "```python\n",
    "pressoes = [60, 120, 140, 160, 180]\n",
    "temperaturas = [0, 25, 30, 35, 40]\n",
    "```\n",
    "\n",
    "2) Exceção de ValueError\n",
    "\n",
    "```python\n",
    "pressoes = [100, 120, 140, 160]\n",
    "temperaturas = [20, 25, 30, 35, 40]\n",
    "```\n",
    "\n",
    "Dica: Você pode usar zip() para parear os dados da `lista_1` com a `lista_2`. Crie uma estrutura `try-except` que caso uma das exceções sejam lançadas, podemos ver o tipo de erro na saída."
   ]
  },
  {
   "cell_type": "code",
   "execution_count": 49,
   "metadata": {},
   "outputs": [],
   "source": [
    "def divide_colunas(c1: list, c2: list):\n",
    "    if len(c1) != len(c2):\n",
    "        raise ValueError('listas de tamanhos diferentes')\n",
    "    return [round(a/b, 2) for a, b in zip(c1, c2)]"
   ]
  },
  {
   "cell_type": "code",
   "execution_count": 50,
   "metadata": {},
   "outputs": [],
   "source": [
    "pressoes = [100, 120, 140, 160, 180]\n",
    "temperaturas = [20, 25, 30, 35, 40]\n",
    "\n",
    "try:\n",
    "    divide_colunas(pressoes, temperaturas)\n",
    "except (ZeroDivisionError, ValueError) as e:\n",
    "    print(type(e), e)"
   ]
  },
  {
   "cell_type": "code",
   "execution_count": 51,
   "metadata": {},
   "outputs": [
    {
     "name": "stdout",
     "output_type": "stream",
     "text": [
      "<class 'ZeroDivisionError'> division by zero\n"
     ]
    }
   ],
   "source": [
    "pressoes = [60, 120, 140, 160, 180]\n",
    "temperaturas = [0, 25, 30, 35, 40]\n",
    "\n",
    "try:\n",
    "    divide_colunas(pressoes, temperaturas)\n",
    "except (ZeroDivisionError, ValueError) as e:\n",
    "    print(type(e), e)"
   ]
  },
  {
   "cell_type": "code",
   "execution_count": 52,
   "metadata": {},
   "outputs": [
    {
     "name": "stdout",
     "output_type": "stream",
     "text": [
      "<class 'ValueError'> listas de tamanhos diferentes\n"
     ]
    }
   ],
   "source": [
    "pressoes = [100, 120, 140, 160]\n",
    "temperaturas = [20, 25, 30, 35, 40]\n",
    "\n",
    "try:\n",
    "    divide_colunas(pressoes, temperaturas)\n",
    "except (ZeroDivisionError, ValueError) as e:\n",
    "    print(type(e), e)"
   ]
  }
 ],
 "metadata": {
  "colab": {
   "provenance": []
  },
  "kernelspec": {
   "display_name": "Python 3",
   "name": "python3"
  },
  "language_info": {
   "codemirror_mode": {
    "name": "ipython",
    "version": 3
   },
   "file_extension": ".py",
   "mimetype": "text/x-python",
   "name": "python",
   "nbconvert_exporter": "python",
   "pygments_lexer": "ipython3",
   "version": "3.12.7"
  }
 },
 "nbformat": 4,
 "nbformat_minor": 0
}
