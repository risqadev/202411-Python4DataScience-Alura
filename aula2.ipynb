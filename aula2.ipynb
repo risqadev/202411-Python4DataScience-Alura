{
 "cells": [
  {
   "cell_type": "markdown",
   "metadata": {
    "id": "AGc2Cf4cBwd7"
   },
   "source": [
    "# <font color=green> PYTHON PARA DATA SCIENCE\n",
    "---"
   ]
  },
  {
   "cell_type": "markdown",
   "metadata": {
    "id": "2hrSPmlcBwWS"
   },
   "source": [
    "## <font color=green> 2. FUNÇÕES\n",
    "---"
   ]
  },
  {
   "cell_type": "markdown",
   "metadata": {
    "id": "gC4lHsW-DREY"
   },
   "source": [
    "Na linguagem Python, as **funções** são sequências de instruções que executam tarefas específicas, podendo ser reutilizadas em diferentes partes do código. Elas podem receber parâmetros de entrada (que podemos chamar de *inputs*) e também retornar resultados."
   ]
  },
  {
   "cell_type": "markdown",
   "metadata": {
    "id": "Qr_h1_UNEzHZ"
   },
   "source": [
    "### 2.1 Built-in function"
   ]
  },
  {
   "cell_type": "markdown",
   "metadata": {},
   "source": [
    "O interpretador do Python já possui uma série de funções embutidas que podem ser invocadas a qualquer momento. Algumas que vamos utilizar ao longo desse curso são: type(), print(), list(), zip(), sum(), map() etc.\n",
    "\n",
    "***Documentação:***\n",
    "https://docs.python.org/pt-br/3/library/functions.html\n"
   ]
  },
  {
   "cell_type": "markdown",
   "metadata": {
    "id": "MMOJIW3TyLIB"
   },
   "source": [
    "##### **Situação 1:**"
   ]
  },
  {
   "cell_type": "markdown",
   "metadata": {},
   "source": [
    "A escola em que estamos construindo o nosso case de dados compartilhou os dados das notas de um estudante para que pudéssemos calcular a média deste em até uma casa decimal. \n",
    "\n",
    "Os dados recebidos correspondem a um dicionário com as chaves indicando o trimestre em questão e os valores das notas de cada trimestre do estudante em uma dada matéria."
   ]
  },
  {
   "cell_type": "code",
   "execution_count": null,
   "metadata": {
    "colab": {
     "base_uri": "https://localhost:8080/"
    },
    "id": "kRAMC_KbI6U4",
    "outputId": "06f7bfdd-8551-4d59-8ccb-0d8718dd890e"
   },
   "outputs": [
    {
     "data": {
      "text/plain": [
       "{'1º Trimestre': 8.5, '2º Trimestre': 7.5, '3º Trimestre': 9}"
      ]
     },
     "execution_count": 7,
     "metadata": {},
     "output_type": "execute_result"
    }
   ],
   "source": [
    "# Notas do(a) estudante\n",
    "notas_por_aluno = {'1º Trimestre': 8.5, '2º Trimestre': 7.5, '3º Trimestre': 9}\n",
    "notas_por_aluno"
   ]
  },
  {
   "cell_type": "code",
   "execution_count": null,
   "metadata": {
    "id": "S7vIqSZJI6P4"
   },
   "outputs": [
    {
     "data": {
      "text/plain": [
       "25.0"
      ]
     },
     "execution_count": 8,
     "metadata": {},
     "output_type": "execute_result"
    }
   ],
   "source": [
    "# Calculando a soma\n",
    "soma = 0\n",
    "\n",
    "for nota in notas_por_aluno.values():\n",
    "  soma += nota\n",
    "\n",
    "soma"
   ]
  },
  {
   "cell_type": "code",
   "execution_count": null,
   "metadata": {
    "id": "yr9YSRwNPF9S"
   },
   "outputs": [
    {
     "data": {
      "text/plain": [
       "25.0"
      ]
     },
     "execution_count": 9,
     "metadata": {},
     "output_type": "execute_result"
    }
   ],
   "source": [
    "# Usando a função embutida sum()\n",
    "sum = sum(notas_por_aluno.values())\n",
    "sum"
   ]
  },
  {
   "cell_type": "code",
   "execution_count": null,
   "metadata": {
    "id": "Zn6XAAdQI6Fw"
   },
   "outputs": [
    {
     "data": {
      "text/plain": [
       "3"
      ]
     },
     "execution_count": 11,
     "metadata": {},
     "output_type": "execute_result"
    }
   ],
   "source": [
    "# Usando a função embutida len()\n",
    "qtd_notas = len(notas_por_aluno)\n",
    "qtd_notas"
   ]
  },
  {
   "cell_type": "code",
   "execution_count": 25,
   "metadata": {
    "id": "iUx5UixrNsQh"
   },
   "outputs": [
    {
     "data": {
      "text/plain": [
       "8.333333333333334"
      ]
     },
     "execution_count": 25,
     "metadata": {},
     "output_type": "execute_result"
    }
   ],
   "source": [
    "# calculando a média\n",
    "media = soma / qtd_notas\n",
    "media"
   ]
  },
  {
   "cell_type": "markdown",
   "metadata": {
    "id": "JD2z3LW8312E"
   },
   "source": [
    "*Arredondar a média usando round():*\n",
    "\n",
    "https://docs.python.org/pt-br/3/library/functions.html#round"
   ]
  },
  {
   "cell_type": "code",
   "execution_count": 16,
   "metadata": {},
   "outputs": [
    {
     "name": "stdout",
     "output_type": "stream",
     "text": [
      "\u001b[0;31mSignature:\u001b[0m \u001b[0mround\u001b[0m\u001b[0;34m(\u001b[0m\u001b[0mnumber\u001b[0m\u001b[0;34m,\u001b[0m \u001b[0mndigits\u001b[0m\u001b[0;34m=\u001b[0m\u001b[0;32mNone\u001b[0m\u001b[0;34m)\u001b[0m\u001b[0;34m\u001b[0m\u001b[0;34m\u001b[0m\u001b[0m\n",
      "\u001b[0;31mDocstring:\u001b[0m\n",
      "Round a number to a given precision in decimal digits.\n",
      "\n",
      "The return value is an integer if ndigits is omitted or None.  Otherwise\n",
      "the return value has the same type as the number.  ndigits may be negative.\n",
      "\u001b[0;31mType:\u001b[0m      builtin_function_or_method"
     ]
    }
   ],
   "source": [
    "round?\n",
    "# help(round)"
   ]
  },
  {
   "cell_type": "code",
   "execution_count": 18,
   "metadata": {
    "id": "OAZC5RwkSwWh"
   },
   "outputs": [
    {
     "data": {
      "text/plain": [
       "8.3"
      ]
     },
     "execution_count": 18,
     "metadata": {},
     "output_type": "execute_result"
    }
   ],
   "source": [
    "round(media, 1)"
   ]
  },
  {
   "cell_type": "markdown",
   "metadata": {
    "id": "NCUSezOJIdfy"
   },
   "source": [
    "### 2.2 Criando funções"
   ]
  },
  {
   "cell_type": "markdown",
   "metadata": {
    "id": "QrTAXwghsg6s"
   },
   "source": [
    "Depois de explorarmos a built-in functions e aprendermos como utilizar algumas delas, você pode se deparar com a necessidade de resolver um problema específico em que elas não serão o suficiente.\n",
    "\n",
    "Nesse ponto, precisaremos criar as nossas próprias funções, ainda mais se precisarmos utilizá-las em mais partes de nossos códigos."
   ]
  },
  {
   "cell_type": "markdown",
   "metadata": {
    "id": "zxyXiX462A_X"
   },
   "source": [
    "#### Funções sem parâmetros"
   ]
  },
  {
   "cell_type": "markdown",
   "metadata": {},
   "source": [
    "Formato padrão:\n",
    "\n",
    "```python\n",
    "def <nome>():\n",
    "  <instruções>\n",
    "```"
   ]
  },
  {
   "cell_type": "code",
   "execution_count": 30,
   "metadata": {
    "id": "zQtsnpyCzHfb"
   },
   "outputs": [
    {
     "name": "stdout",
     "output_type": "stream",
     "text": [
      "8.333333333333334\n"
     ]
    }
   ],
   "source": [
    "def mediaf():\n",
    "  media = soma / qtd_notas\n",
    "  print(media)\n",
    "\n",
    "mediaf()"
   ]
  },
  {
   "cell_type": "code",
   "execution_count": 29,
   "metadata": {
    "id": "Eq4U8TPq0xOv"
   },
   "outputs": [
    {
     "data": {
      "text/plain": [
       "8.333333333333334"
      ]
     },
     "execution_count": 29,
     "metadata": {},
     "output_type": "execute_result"
    }
   ],
   "source": [
    "media"
   ]
  },
  {
   "cell_type": "markdown",
   "metadata": {
    "id": "o9AR_DNDFKSD"
   },
   "source": [
    "#### Funções com parâmetros"
   ]
  },
  {
   "cell_type": "markdown",
   "metadata": {},
   "source": [
    "Formato padrão:\n",
    "\n",
    "```python\n",
    "def <nome>(<param_1>, <param_2>, ..., <param_n>):\n",
    "  <instruções>\n",
    "```"
   ]
  },
  {
   "cell_type": "code",
   "execution_count": 31,
   "metadata": {
    "id": "zVIvbjeRDR24"
   },
   "outputs": [
    {
     "name": "stdout",
     "output_type": "stream",
     "text": [
      "3.0\n"
     ]
    }
   ],
   "source": [
    "def media_param(n1, n2, n3):\n",
    "  print( (n1+n2+n3)/3 )\n",
    "\n",
    "media_param(1, 3, 5)"
   ]
  },
  {
   "cell_type": "code",
   "execution_count": null,
   "metadata": {
    "id": "c6H9lfBn3FuA"
   },
   "outputs": [],
   "source": []
  },
  {
   "cell_type": "code",
   "execution_count": null,
   "metadata": {
    "id": "38M9GYEVQp_x"
   },
   "outputs": [],
   "source": []
  },
  {
   "cell_type": "markdown",
   "metadata": {
    "id": "-Umx7n134suz"
   },
   "source": [
    "##### **Situação 2:**"
   ]
  },
  {
   "cell_type": "markdown",
   "metadata": {},
   "source": [
    "Recebemos uma demanda de calcular a média de um estudante a partir de uma lista, sendo possível alterar a quantidade de notas, sem impedir que o cálculo seja refeito.\n",
    "\n",
    "Os dados recebidos, desta vez, correspondem a uma lista contendo apenas as notas de um estudante em uma dada matéria.\n",
    "\n",
    "**Vamos resolver esse desafio?**\n",
    "\n",
    "Para facilitar o nosso entendimento do processo vamos aplicar às notas de apenas um estudante, mas você pode testar outros casos para treinar."
   ]
  },
  {
   "cell_type": "code",
   "execution_count": null,
   "metadata": {
    "id": "9AiWnXLuzc1P"
   },
   "outputs": [],
   "source": [
    "# Notas do(a) estudante\n",
    "notas_por_aluno = [8.5, 9.0, 6.0, 10.0]"
   ]
  },
  {
   "cell_type": "code",
   "execution_count": null,
   "metadata": {
    "id": "bEf8Evf1DR0I"
   },
   "outputs": [],
   "source": [
    "type(notas_por_aluno)\n",
    "\n",
    "del sum"
   ]
  },
  {
   "cell_type": "code",
   "execution_count": null,
   "metadata": {
    "id": "R5ylO_vW6k8C"
   },
   "outputs": [
    {
     "data": {
      "text/plain": [
       "8.375"
      ]
     },
     "execution_count": 36,
     "metadata": {},
     "output_type": "execute_result"
    }
   ],
   "source": [
    "def media_lista(lista: list[float]) -> float:\n",
    "  soma = sum(lista)\n",
    "  tam = len(lista)\n",
    "  return soma / tam\n",
    "\n",
    "media_lista(notas_por_aluno)"
   ]
  },
  {
   "cell_type": "markdown",
   "metadata": {
    "id": "skMq7d0_xHND"
   },
   "source": [
    "<font color=red>**Atenção!**</font>\n",
    "Quando utilizamos funções precisamos prestar atenção a uma propriedade chamada **escopo de uma função**\n",
    "\n",
    "Ela determina onde uma variável pode ser utilizada dentro do código. Por exemplo, uma variável criada dentro de uma função existirá apenas dentro da função. Ou seja, encerrando a execução da função, a variável não estará disponível para o usuário no restante do código. "
   ]
  },
  {
   "cell_type": "code",
   "execution_count": null,
   "metadata": {
    "id": "5FBWT2_gzIzR"
   },
   "outputs": [],
   "source": []
  },
  {
   "cell_type": "markdown",
   "metadata": {
    "id": "-oDFGKcA52kG"
   },
   "source": [
    "### 2.3 Funções que retornam valores"
   ]
  },
  {
   "cell_type": "markdown",
   "metadata": {},
   "source": [
    "Formato padrão:\n",
    "\n",
    "```python\n",
    "def <nome>(<param_1>, <param_2>, ..., <param_n>):\n",
    "  <instruções>\n",
    "  return resultado\n",
    "```"
   ]
  },
  {
   "cell_type": "markdown",
   "metadata": {
    "id": "DxvT_uItbQ-q"
   },
   "source": [
    "Retomando a atividade anterior, podemos retornar e salvar o valor da média da seguinte forma:"
   ]
  },
  {
   "cell_type": "code",
   "execution_count": null,
   "metadata": {
    "id": "GlWdnX7Ubgl3"
   },
   "outputs": [],
   "source": [
    "# Notas do(a) estudante\n",
    "notas_por_aluno = [8.5, 9.0, 6.0, 10.0]"
   ]
  },
  {
   "cell_type": "code",
   "execution_count": null,
   "metadata": {
    "id": "B6yqoM7KAKKK"
   },
   "outputs": [],
   "source": [
    "def media(lista):\n",
    "  calculo = sum(lista) / len(lista)\n",
    "  ..."
   ]
  },
  {
   "cell_type": "code",
   "execution_count": null,
   "metadata": {
    "id": "GlqPKe3_AT0Q"
   },
   "outputs": [],
   "source": []
  },
  {
   "cell_type": "code",
   "execution_count": null,
   "metadata": {
    "id": "E81HZh8rAYJz"
   },
   "outputs": [],
   "source": []
  },
  {
   "cell_type": "markdown",
   "metadata": {
    "id": "_awyOKOH8OOi"
   },
   "source": [
    "##### **Situação 3:**"
   ]
  },
  {
   "cell_type": "markdown",
   "metadata": {},
   "source": [
    "Recebemos uma nova demanda, desta vez, de calcular a média de um estudante a partir de uma lista e retornar tanto a média quanto a situação do estudante (\"Aprovado(a)\" se a nota for maior ou igual a 6.0, caso contrário, será \"Reprovado(a)\"). \n",
    "\n",
    "Além disso, precisamos exibir um pequeno texto em que indicamos a média do(a) estudante e qual a situação. Os dados recebidos correspondem a uma lista contendo apenas as notas de um estudante em uma dada matéria.\n",
    "\n",
    "**Vamos resolver esse desafio?**\n",
    "\n",
    "Para facilitar o nosso entendimento do processo vamos aplicar as notas de apenas um estudante, mas você pode testar outros casos para treinar."
   ]
  },
  {
   "cell_type": "code",
   "execution_count": null,
   "metadata": {
    "id": "8LmWZ2U9-Zv3"
   },
   "outputs": [],
   "source": [
    "# Notas do(a) estudante\n",
    "notas_por_aluno = [6.0, 7.0, 9.0, 5.0]"
   ]
  },
  {
   "cell_type": "code",
   "execution_count": null,
   "metadata": {
    "id": "bJ9KmlHv5o0i"
   },
   "outputs": [],
   "source": []
  },
  {
   "cell_type": "code",
   "execution_count": null,
   "metadata": {
    "id": "rIiA2cpB-squ"
   },
   "outputs": [],
   "source": []
  },
  {
   "cell_type": "code",
   "execution_count": null,
   "metadata": {
    "id": "_xf7bR6JBjD8"
   },
   "outputs": [],
   "source": []
  },
  {
   "cell_type": "code",
   "execution_count": null,
   "metadata": {
    "id": "5ixwo3o3CdQ0"
   },
   "outputs": [],
   "source": []
  },
  {
   "cell_type": "code",
   "execution_count": null,
   "metadata": {
    "id": "VFQacFSICeaO"
   },
   "outputs": [],
   "source": []
  },
  {
   "cell_type": "code",
   "execution_count": null,
   "metadata": {
    "id": "ecFviUvOCgXF"
   },
   "outputs": [],
   "source": [
    "print(f'O(a) estudante atingiu uma média de {} e foi {}.')"
   ]
  },
  {
   "cell_type": "markdown",
   "metadata": {
    "id": "hwYYRpkZMft5"
   },
   "source": [
    "### 2.4 Funções lambda"
   ]
  },
  {
   "cell_type": "markdown",
   "metadata": {},
   "source": [
    "Também chamadas de funções anônimas, são funções que não precisam ser definidas, ou seja não possuem um nome, e descrevem em uma única linha os comandos que desejamos aplicar. \n",
    "\n",
    "https://docs.python.org/pt-br/3/reference/expressions.html?#lambda\n",
    "\n",
    "Formato padrão:\n",
    "\n",
    "```python\n",
    "lambda <variavel>: <expressao>\n",
    "```"
   ]
  },
  {
   "cell_type": "code",
   "execution_count": 38,
   "metadata": {
    "id": "9wNMcPOK_T9F"
   },
   "outputs": [
    {
     "data": {
      "text/plain": [
       "5.5"
      ]
     },
     "execution_count": 38,
     "metadata": {},
     "output_type": "execute_result"
    }
   ],
   "source": [
    "qualitativo = lambda x : x + 0.5\n",
    "\n",
    "qualitativo(5)"
   ]
  },
  {
   "cell_type": "code",
   "execution_count": 40,
   "metadata": {
    "id": "4xnmTQ9w_ZTi"
   },
   "outputs": [
    {
     "data": {
      "text/plain": [
       "5.166666666666667"
      ]
     },
     "execution_count": 40,
     "metadata": {},
     "output_type": "execute_result"
    }
   ],
   "source": [
    "media_ponderada = lambda x, y, z : (x*1 + y*2 + z*3)/6\n",
    "\n",
    "media_ponderada(5, 4, 6)"
   ]
  },
  {
   "cell_type": "code",
   "execution_count": 41,
   "metadata": {
    "id": "x6m24TcG_W3w"
   },
   "outputs": [
    {
     "data": {
      "text/plain": [
       "7.5"
      ]
     },
     "execution_count": 41,
     "metadata": {},
     "output_type": "execute_result"
    }
   ],
   "source": [
    "media_ponderada(8, 5, 9)"
   ]
  },
  {
   "cell_type": "markdown",
   "metadata": {
    "id": "AuRWyNXYgD_b"
   },
   "source": [
    "##### **Situação 4:**"
   ]
  },
  {
   "cell_type": "markdown",
   "metadata": {},
   "source": [
    "Nesta nova demanda, precisamos criar uma calculadora simples da média ponderada de notas de uma dada matéria. Vamos requisitar ao usuário a entrada das 3 notas (N1, N2, N3) do estudante e devolver a média ponderada deste estudante. Os pesos das notas são de, respectivamente 3, 2, 5.\n",
    "\n",
    "Precisamos exibir um pequeno texto em que indicamos a média do(a) estudante.\n",
    "\n",
    "**Vamos resolver esse desafio?**"
   ]
  },
  {
   "cell_type": "code",
   "execution_count": null,
   "metadata": {
    "id": "4EjJD3w3lbzJ"
   },
   "outputs": [],
   "source": [
    "# Comparando uma função de qualitativo no formato de função para função anônima\n"
   ]
  },
  {
   "cell_type": "code",
   "execution_count": null,
   "metadata": {
    "id": "vZjaUmaJFp3D"
   },
   "outputs": [],
   "source": [
    "# Testando a mesma função para uma função lambda\n"
   ]
  },
  {
   "cell_type": "markdown",
   "metadata": {
    "id": "vdKk3DRBmtUE"
   },
   "source": [
    "**Partindo para nosso problema:**"
   ]
  },
  {
   "cell_type": "code",
   "execution_count": null,
   "metadata": {
    "colab": {
     "base_uri": "https://localhost:8080/"
    },
    "executionInfo": {
     "elapsed": 14792,
     "status": "ok",
     "timestamp": 1678460277463,
     "user": {
      "displayName": "Afonso Augusto Rios",
      "userId": "05972796828124452071"
     },
     "user_tz": 180
    },
    "id": "azStYQgKnsZn",
    "outputId": "af1aaa46-353d-4b69-c470-1bd7f2488ae0"
   },
   "outputs": [
    {
     "name": "stdout",
     "output_type": "stream",
     "text": [
      "Digite a 1ª nota do(a) estudante: 3\n",
      "Digite a 2ª nota do(a) estudante: 4\n",
      "Digite a 3ª nota do(a) estudante: 5\n"
     ]
    },
    {
     "data": {
      "text/plain": [
       "Ellipsis"
      ]
     },
     "execution_count": 1,
     "metadata": {},
     "output_type": "execute_result"
    }
   ],
   "source": [
    "# Recebendo as notas e calculando a média ponderável\n",
    "N1 = float(input(\"Digite a 1ª nota do(a) estudante: \"))\n",
    "N2 = float(input(\"Digite a 2ª nota do(a) estudante: \"))\n",
    "N3 = float(input(\"Digite a 3ª nota do(a) estudante: \"))\n",
    "\n",
    "..."
   ]
  },
  {
   "cell_type": "code",
   "execution_count": null,
   "metadata": {
    "id": "Ek1s_FkjkQrW"
   },
   "outputs": [],
   "source": [
    "# Exibindo a média\n",
    "print(f'O(a) estudante atingiu uma média de {}')"
   ]
  },
  {
   "cell_type": "markdown",
   "metadata": {
    "id": "SOK4BC4mmKbG"
   },
   "source": [
    "#### Mapeando valores"
   ]
  },
  {
   "cell_type": "markdown",
   "metadata": {},
   "source": [
    "Formato padrão:\n",
    "\n",
    "```python\n",
    "map(<lambda function>, <iterador>)\n",
    "```"
   ]
  },
  {
   "cell_type": "markdown",
   "metadata": {
    "id": "1qk0gLdfFcbf"
   },
   "source": [
    "##### **Situação 5:**"
   ]
  },
  {
   "cell_type": "markdown",
   "metadata": {},
   "source": [
    "Recebemos mais uma demanda, desta vez, para criar uma pequena função que pudesse adicionar qualitativo (pontuação extra) às notas do trimestre dos estudantes da turma que ganhou a gincana de programação promovida pela escola. Cada estudante receberá o qualitativo de 0.5 acrescido à média.\n",
    "\n",
    "Os dados recebidos correspondem a uma lista contendo as notas de alguns estudantes e uma variável com o qualitativo recebido.\n",
    "\n",
    "**Vamos resolver esse desafio?**\n",
    "\n",
    "Para facilitar o nosso entendimento do processo vamos aplicar o qualitativo às notas de 5 estudantes, mas você pode testar outros casos para treinar."
   ]
  },
  {
   "cell_type": "code",
   "execution_count": null,
   "metadata": {
    "id": "RdoaWhuVI_OB"
   },
   "outputs": [],
   "source": [
    "# Notas do(a) estudante\n",
    "notas_por_aluno = [6.0, 7.0, 9.0, 5.5, 8.0]\n",
    "qualitativo = 0.5"
   ]
  },
  {
   "cell_type": "code",
   "execution_count": null,
   "metadata": {
    "id": "nC6zW89lHI4K"
   },
   "outputs": [],
   "source": []
  },
  {
   "cell_type": "code",
   "execution_count": null,
   "metadata": {
    "id": "iM2jXtC8m1zc"
   },
   "outputs": [],
   "source": [
    "# Não conseguimos aplicar o lambda em listas direto, é necessário \n",
    "# utilizarmos junto a ela a função map\n"
   ]
  },
  {
   "cell_type": "code",
   "execution_count": null,
   "metadata": {
    "id": "dAq9-TNTm1wf"
   },
   "outputs": [
    {
     "data": {
      "text/plain": [
       "map"
      ]
     },
     "execution_count": 45,
     "metadata": {},
     "output_type": "execute_result"
    }
   ],
   "source": [
    "notas_atualizadas_map = map(lambda x: x + qualitativo, notas_por_aluno)\n",
    "\n",
    "type(notas_atualizadas_map)"
   ]
  },
  {
   "cell_type": "code",
   "execution_count": 46,
   "metadata": {},
   "outputs": [
    {
     "data": {
      "text/plain": [
       "[6.5, 7.5, 9.5, 6.0, 8.5]"
      ]
     },
     "execution_count": 46,
     "metadata": {},
     "output_type": "execute_result"
    }
   ],
   "source": [
    "notas_atualizadas = list(notas_atualizadas_map)\n",
    "notas_atualizadas"
   ]
  },
  {
   "cell_type": "markdown",
   "metadata": {},
   "source": [
    "### Desafios"
   ]
  },
  {
   "cell_type": "markdown",
   "metadata": {},
   "source": [
    "##### questão 1"
   ]
  },
  {
   "cell_type": "markdown",
   "metadata": {},
   "source": [
    "Escreva um código que lê a lista abaixo e faça:"
   ]
  },
  {
   "cell_type": "code",
   "execution_count": null,
   "metadata": {},
   "outputs": [],
   "source": [
    "lista = [16, 14, 63, 65, 17, 99, 70, 11, 20, 48, 79, 32, 17, 89, 12, 25, 66]"
   ]
  },
  {
   "cell_type": "markdown",
   "metadata": {},
   "source": [
    "- A leitura do tamanho da lista"
   ]
  },
  {
   "cell_type": "code",
   "execution_count": 49,
   "metadata": {},
   "outputs": [
    {
     "data": {
      "text/plain": [
       "17"
      ]
     },
     "execution_count": 49,
     "metadata": {},
     "output_type": "execute_result"
    }
   ],
   "source": [
    "tamanho = len(lista)\n",
    "tamanho"
   ]
  },
  {
   "cell_type": "markdown",
   "metadata": {},
   "source": [
    "- A leitura do maior e menor valor"
   ]
  },
  {
   "cell_type": "code",
   "execution_count": 50,
   "metadata": {},
   "outputs": [
    {
     "data": {
      "text/plain": [
       "99"
      ]
     },
     "execution_count": 50,
     "metadata": {},
     "output_type": "execute_result"
    }
   ],
   "source": [
    "maior = max(lista)\n",
    "maior"
   ]
  },
  {
   "cell_type": "code",
   "execution_count": 51,
   "metadata": {},
   "outputs": [
    {
     "data": {
      "text/plain": [
       "11"
      ]
     },
     "execution_count": 51,
     "metadata": {},
     "output_type": "execute_result"
    }
   ],
   "source": [
    "menor = min(lista)\n",
    "menor"
   ]
  },
  {
   "cell_type": "markdown",
   "metadata": {},
   "source": [
    "- A soma dos valores da lista"
   ]
  },
  {
   "cell_type": "code",
   "execution_count": 52,
   "metadata": {},
   "outputs": [
    {
     "data": {
      "text/plain": [
       "743"
      ]
     },
     "execution_count": 52,
     "metadata": {},
     "output_type": "execute_result"
    }
   ],
   "source": [
    "soma = sum(lista)\n",
    "soma"
   ]
  },
  {
   "cell_type": "markdown",
   "metadata": {},
   "source": [
    "\n",
    "Ao final exiba uma mensagem dizendo:\n",
    "\n",
    "```\n",
    "\"A lista possui [tam] números em que o maior número é [maior] e o menor número é [menor]. A soma dos valores presentes nela é igual a [soma]\"\n",
    "```\n",
    "\n",
    "Dica: use as funções embutidas presentes na documentação do Python."
   ]
  },
  {
   "cell_type": "code",
   "execution_count": 63,
   "metadata": {},
   "outputs": [
    {
     "name": "stdout",
     "output_type": "stream",
     "text": [
      "A lista possui 17 números em que o maior número é 99 e o menor número é 11.\n",
      "A soma dos valores presentes nela é igual a 743\n"
     ]
    }
   ],
   "source": [
    "print(f\"A lista possui {tamanho} números em que o maior número é {maior} e o menor número é {menor}.\\n\\\n",
    "A soma dos valores presentes nela é igual a {soma}\")"
   ]
  },
  {
   "cell_type": "markdown",
   "metadata": {},
   "source": [
    "##### questão 2"
   ]
  },
  {
   "cell_type": "markdown",
   "metadata": {},
   "source": [
    "Escreva uma função que gere a tabuada de um número inteiro de 1 a 10, de acordo com a escolha da pessoa usuária. Como exemplo, para o número 7, a tabuada deve ser mostrada no seguinte formato:\n",
    "\n",
    "```\n",
    "Tabuada do 7:\n",
    "7 x 0 = 0\n",
    "7 x 1 = 7\n",
    "[...]\n",
    "7 x 10 = 70\n",
    "```"
   ]
  },
  {
   "cell_type": "code",
   "execution_count": 69,
   "metadata": {},
   "outputs": [
    {
     "name": "stdout",
     "output_type": "stream",
     "text": [
      "Tabuada do 7:\n",
      "7 x 0 = 0\n",
      "7 x 1 = 7\n",
      "7 x 2 = 14\n",
      "7 x 3 = 21\n",
      "7 x 4 = 28\n",
      "7 x 5 = 35\n",
      "7 x 6 = 42\n",
      "7 x 7 = 49\n",
      "7 x 8 = 56\n",
      "7 x 9 = 63\n",
      "7 x 10 = 70\n"
     ]
    }
   ],
   "source": [
    "tabuada_do = int(input(\"Você gostaria de ver a tabuada de qual número? : \"))\n",
    "\n",
    "multiplicadores = range(0, 11)\n",
    "\n",
    "resultados = list(map(lambda x : x * tabuada_do, multiplicadores))\n",
    "\n",
    "print(f\"Tabuada do {tabuada_do}:\")\n",
    "for multiplicador in multiplicadores:\n",
    "  print(f\"{tabuada_do} x {multiplicador} = {resultados[multiplicador]}\")"
   ]
  },
  {
   "cell_type": "markdown",
   "metadata": {},
   "source": [
    "##### questão 3"
   ]
  },
  {
   "cell_type": "markdown",
   "metadata": {},
   "source": [
    "Crie a função que leia a lista abaixo e retorne uma nova lista com os múltiplos de 3:"
   ]
  },
  {
   "cell_type": "code",
   "execution_count": 71,
   "metadata": {},
   "outputs": [],
   "source": [
    "lista = [97, 80, 94, 88, 80, 1, 16, 53, 62, 32, 24, 99]"
   ]
  },
  {
   "cell_type": "markdown",
   "metadata": {},
   "source": [
    "Utilize o `return` na função e salve a nova lista na variável `mult_3`."
   ]
  },
  {
   "cell_type": "code",
   "execution_count": 77,
   "metadata": {},
   "outputs": [
    {
     "data": {
      "text/plain": [
       "[24, 99]"
      ]
     },
     "execution_count": 77,
     "metadata": {},
     "output_type": "execute_result"
    }
   ],
   "source": [
    "def multiplos_3(lista: list[int]) -> list[int]:\n",
    "  return list(filter(lambda x : x % 3 == 0, lista))\n",
    "\n",
    "mult_3 = multiplos_3(lista)\n",
    "\n",
    "mult_3"
   ]
  },
  {
   "cell_type": "markdown",
   "metadata": {},
   "source": [
    "##### questão 4"
   ]
  },
  {
   "cell_type": "markdown",
   "metadata": {},
   "source": [
    "Crie uma lista dos quadrados dos números da seguinte lista"
   ]
  },
  {
   "cell_type": "code",
   "execution_count": 78,
   "metadata": {},
   "outputs": [],
   "source": [
    "lista =  [1, 2, 3, 4, 5, 6, 7, 8, 9, 10]"
   ]
  },
  {
   "cell_type": "markdown",
   "metadata": {},
   "source": [
    "Lembre-se de utilizar as funções lambda e map() para calcular o quadrado de cada elemento da lista."
   ]
  },
  {
   "cell_type": "code",
   "execution_count": 79,
   "metadata": {},
   "outputs": [
    {
     "data": {
      "text/plain": [
       "[1, 4, 9, 16, 25, 36, 49, 64, 81, 100]"
      ]
     },
     "execution_count": 79,
     "metadata": {},
     "output_type": "execute_result"
    }
   ],
   "source": [
    "quadrados = list(map(lambda x : x**2, lista))\n",
    "quadrados"
   ]
  },
  {
   "cell_type": "markdown",
   "metadata": {},
   "source": [
    "##### questão 5"
   ]
  },
  {
   "cell_type": "markdown",
   "metadata": {},
   "source": [
    "\n",
    "Você foi contratado(a) como cientista de dados de uma associação de skate. Para analisar as notas recebidas de skatistas em algumas competições ao longo do ano, você precisa criar um código que calcula a pontuação dos(as) atletas. Para isso, o seu código deve receber 5 notas digitadas pelas pessoas juradas.\n",
    "\n",
    "Para calcular a pontuação de um(a) skatista, você precisa eliminar a maior e a menor pontuação dentre as 5 notas e tirar a média das 3 notas que sobraram. Retorne a média para apresentar o texto:\n",
    "\n",
    "`\"Nota da manobra: [media]\"`"
   ]
  },
  {
   "cell_type": "code",
   "execution_count": null,
   "metadata": {},
   "outputs": [
    {
     "name": "stdout",
     "output_type": "stream",
     "text": [
      "Nota da manobra: 5.0\n"
     ]
    }
   ],
   "source": [
    "notas_por_aluno = [0, 0, 0, 0, 0]\n",
    "\n",
    "for i in range(0, 5):\n",
    "  notas_por_aluno[i] = float(input(f\"Informe a {i+1}ª nota: \"))\n",
    "\n",
    "notas_validas = sorted(notas_por_aluno)[1:-1]\n",
    "\n",
    "def calcula_media(notas: list[float]) -> float:\n",
    "  return sum(notas)/len(notas)\n",
    "\n",
    "media = calcula_media(notas_validas)\n",
    "\n",
    "print(f\"Nota da manobra: {media}\")"
   ]
  },
  {
   "cell_type": "markdown",
   "metadata": {},
   "source": [
    "##### questão 6"
   ]
  },
  {
   "cell_type": "markdown",
   "metadata": {},
   "source": [
    "Para atender a uma demanda de uma instituição de ensino para a análise do desempenho de seus(suas) estudantes, você precisa criar uma função que receba uma lista de 4 notas"
   ]
  },
  {
   "cell_type": "code",
   "execution_count": null,
   "metadata": {},
   "outputs": [],
   "source": [
    "notas_por_aluno = [0, 0, 0, 0]\n",
    "\n",
    "for i in range(0, 4):\n",
    "  notas_por_aluno[i] = float(input(f\"Informe a {i+1}ª nota: \"))"
   ]
  },
  {
   "cell_type": "markdown",
   "metadata": {},
   "source": [
    "e retorne:\n",
    "\n",
    "- maior nota"
   ]
  },
  {
   "cell_type": "code",
   "execution_count": null,
   "metadata": {},
   "outputs": [
    {
     "data": {
      "text/plain": [
       "6.0"
      ]
     },
     "execution_count": 111,
     "metadata": {},
     "output_type": "execute_result"
    }
   ],
   "source": [
    "maior = max(notas_por_aluno)\n",
    "maior"
   ]
  },
  {
   "cell_type": "markdown",
   "metadata": {},
   "source": [
    "- menor nota"
   ]
  },
  {
   "cell_type": "code",
   "execution_count": null,
   "metadata": {},
   "outputs": [
    {
     "data": {
      "text/plain": [
       "3.0"
      ]
     },
     "execution_count": 113,
     "metadata": {},
     "output_type": "execute_result"
    }
   ],
   "source": [
    "menor = min(notas_por_aluno)\n",
    "menor"
   ]
  },
  {
   "cell_type": "markdown",
   "metadata": {},
   "source": [
    "- média"
   ]
  },
  {
   "cell_type": "code",
   "execution_count": null,
   "metadata": {},
   "outputs": [],
   "source": [
    "media = calcula_media(notas_por_aluno)"
   ]
  },
  {
   "cell_type": "markdown",
   "metadata": {},
   "source": [
    "- situação (Aprovado(a) ou Reprovado(a))"
   ]
  },
  {
   "cell_type": "code",
   "execution_count": 117,
   "metadata": {},
   "outputs": [],
   "source": [
    "def verificar_situacao(media: float, corte: float) -> str:\n",
    "  if media >= corte:\n",
    "    return \"APROVADO\"\n",
    "  else:\n",
    "    return \"REPROVADO\"\n",
    "\n",
    "situacao = verificar_situacao(media, 6)"
   ]
  },
  {
   "cell_type": "markdown",
   "metadata": {},
   "source": [
    "Para testar o comportamento da função, os dados podem ser exibidos em um texto:\n",
    "\n",
    "`\"O(a) estudante obteve uma média de [media], com a sua maior nota de [maior] pontos e a menor nota de [menor] pontos e foi [situacao].\"`"
   ]
  },
  {
   "cell_type": "code",
   "execution_count": 121,
   "metadata": {},
   "outputs": [
    {
     "name": "stdout",
     "output_type": "stream",
     "text": [
      "O(a) estudante obteve uma média de 4.5, com a sua maior nota de 6.0 pontos e a menor nota de 3.0 pontos e foi REPROVADO.\n"
     ]
    }
   ],
   "source": [
    "print(f\"O(a) estudante obteve uma média de {media}, com a sua maior nota de {maior} pontos e a menor nota de {menor} pontos e foi {situacao}.\")"
   ]
  },
  {
   "cell_type": "markdown",
   "metadata": {},
   "source": [
    "##### questão 7"
   ]
  },
  {
   "cell_type": "markdown",
   "metadata": {},
   "source": [
    "Você recebeu uma demanda para tratar 2 listas com os nomes e sobrenomes de cada estudante concatenando-as para apresentar seus nomes completos na forma Nome Sobrenome. As listas são:"
   ]
  },
  {
   "cell_type": "code",
   "execution_count": 1,
   "metadata": {},
   "outputs": [],
   "source": [
    "nomes = [\"joão\", \"MaRia\", \"JOSÉ\"]\n",
    "sobrenomes = [\"SILVA\", \"souza\", \"Tavares\"]"
   ]
  },
  {
   "cell_type": "markdown",
   "metadata": {},
   "source": [
    "O texto exibido ao fim deve ser parecido com:\n",
    "\n",
    "```\n",
    "\"Nome completo: Ana Silva\"\n",
    "```\n",
    "\n",
    "Dica: utilize a função map para mapear os nomes e sobrenomes e as funções de string para tratar o texto."
   ]
  },
  {
   "cell_type": "code",
   "execution_count": 6,
   "metadata": {},
   "outputs": [
    {
     "name": "stdout",
     "output_type": "stream",
     "text": [
      "Nome completo: João Silva\n",
      "Nome completo: Maria Souza\n",
      "Nome completo: José Tavares\n"
     ]
    }
   ],
   "source": [
    "nomes_completos = list(map(lambda x, y: f\"{x.capitalize()} {y.capitalize()}\", nomes, sobrenomes))\n",
    "\n",
    "for n in nomes_completos:\n",
    "  print('Nome completo:', n)"
   ]
  },
  {
   "cell_type": "markdown",
   "metadata": {},
   "source": [
    "##### questão 8"
   ]
  },
  {
   "cell_type": "markdown",
   "metadata": {},
   "source": [
    "Como cientista de dados em um time de futebol, você precisa implementar novas formas de coleta de dados sobre o desempenho de jogadores e do time como um todo. Sua primeira ação é criar uma forma de calcular a pontuação do time no campeonato nacional a partir dos dados de gols marcados e sofridos em cada jogo.\n",
    "\n",
    "Escreva uma função chamada `calcula_pontos` que recebe como parâmetros duas listas de números inteiros, representando os gols marcados e sofridos pelo time em cada partida do campeonato. A função deve retornar a pontuação do time e o aproveitamento em percentual, levando em consideração que a vitória vale 3 pontos, o empate vale 1 ponto e a derrota 0 pontos.\n",
    "\n",
    "```\n",
    "Observação: se a quantidade de gols marcados numa partida for maior que a de sofridos, o time venceu. Caso seja igual, o time empatou e se for menor, o time perdeu. Para calcular o aproveitamento devemos fazer a razão entre a pontuação do time pela pontuação máxima que ele poderia receber.\n",
    "```\n",
    "\n",
    "Para teste, utilize as seguintes listas de gols marcados e sofridos:"
   ]
  },
  {
   "cell_type": "code",
   "execution_count": 7,
   "metadata": {},
   "outputs": [],
   "source": [
    "gols_marcados = [2, 1, 3, 1, 0]\n",
    "gols_sofridos = [1, 2, 2, 1, 3]"
   ]
  },
  {
   "cell_type": "markdown",
   "metadata": {},
   "source": [
    "Provável texto exibido:\n",
    "\n",
    "```\n",
    "\"A pontuação do time foi de [pontos] e seu aproveitamento foi de [aprov]%\"\n",
    "```"
   ]
  },
  {
   "cell_type": "code",
   "execution_count": 17,
   "metadata": {},
   "outputs": [
    {
     "name": "stdout",
     "output_type": "stream",
     "text": [
      "A pontuação do time foi de 7 e seu aproveitamento foi de 46.67 %\n"
     ]
    }
   ],
   "source": [
    "def calcular_pontos_partida(marcados: int, sofridos: int) -> int:\n",
    "  if marcados > sofridos:\n",
    "    return 3\n",
    "  if marcados < sofridos:\n",
    "    return 0\n",
    "  return 1\n",
    "\n",
    "pontos_partidas = list(map(calcular_pontos_partida, gols_marcados, gols_sofridos))\n",
    "\n",
    "pontos_acumulados = sum(pontos_partidas)\n",
    "\n",
    "pontos_possiveis = 3 * len(gols_marcados)\n",
    "\n",
    "aproveitamento_percentual = round(pontos_acumulados / pontos_possiveis * 100, 2)\n",
    "\n",
    "print(f\"A pontuação do time foi de {pontos_acumulados} e seu aproveitamento foi de {aproveitamento_percentual} %\")"
   ]
  },
  {
   "cell_type": "markdown",
   "metadata": {},
   "source": [
    "##### questão 9"
   ]
  },
  {
   "cell_type": "markdown",
   "metadata": {},
   "source": [
    "Você recebeu o desafio de criar um código que calcula os gastos de uma viagem para um das quatro cidades partindo de Recife, sendo elas: Salvador, Fortaleza, Natal e Aracaju.\n",
    "\n",
    "O custo da diária do hotel é de 150 reais em todas elas e o consumo de gasolina na viagem de carro é de 14 km/l, sendo que o valor da gasolina é de 5 reais o litro. O gastos com passeios e alimentação a se fazer em cada uma delas por dia seria de `[200, 400, 250, 300]`, respectivamente.\n",
    "\n",
    "Sabendo que as distâncias entre Recife e cada uma das cidades é de aproximadamente `[850, 800, 300, 550]` km, crie três funções nas quais: a 1ª função calcule os gastos com hotel (`gasto_hotel`), a 2ª calcule os gastos com a gasolina (`gasto_gasolina`) e a 3ª os gastos com passeio e alimentação (`gasto_passeio`).\n",
    "\n",
    "Para testar, simule uma viagem de 3 dias para Salvador partindo de Recife. Considere a viagem de ida e volta de carro.\n",
    "\n",
    "`\"Com base nos gastos definidos, uma viagem de [dias] dias para [cidade] saindo de Recife custaria [gastos] reais\"`"
   ]
  },
  {
   "cell_type": "code",
   "execution_count": 25,
   "metadata": {},
   "outputs": [
    {
     "data": {
      "text/plain": [
       "[953.57, 1135.71, 807.14, 946.43]"
      ]
     },
     "execution_count": 25,
     "metadata": {},
     "output_type": "execute_result"
    }
   ],
   "source": [
    "cidades = ['Salvador', 'Fortaleza', 'Natal', 'Aracaju']\n",
    "distancias = [850, 800, 300, 550]\n",
    "outros_gastos = [200, 400, 250, 300]\n",
    "dias = [3, 3, 3, 3]\n",
    "\n",
    "def gasto_hotel(dias: int, valor_diaria: float = 150.0) -> float:\n",
    "  return dias * valor_diaria\n",
    "\n",
    "def gasto_gasolina(distancia: float, preco_gasolina: float = 5.0, kmPorLitro: float = 14.0) -> float:\n",
    "  return distancia/kmPorLitro * preco_gasolina\n",
    "\n",
    "def gasto_total(hotel: float, gasolina: float, outros: float) -> float:\n",
    "  return hotel + gasolina + outros\n",
    "\n",
    "custo_gas_cidades = list(map(gasto_gasolina, distancias))\n",
    "custo_hotel_cidades = list(map(lambda dias: gasto_hotel(dias), dias))\n",
    "\n",
    "custo_total_cidades = list(map(lambda h, g, o: round(h + g + o, 2), custo_hotel_cidades, custo_gas_cidades, outros_gastos))\n",
    "\n",
    "custo_total_cidades"
   ]
  }
 ],
 "metadata": {
  "colab": {
   "provenance": []
  },
  "kernelspec": {
   "display_name": "Python 3",
   "name": "python3"
  },
  "language_info": {
   "codemirror_mode": {
    "name": "ipython",
    "version": 3
   },
   "file_extension": ".py",
   "mimetype": "text/x-python",
   "name": "python",
   "nbconvert_exporter": "python",
   "pygments_lexer": "ipython3",
   "version": "3.12.7"
  }
 },
 "nbformat": 4,
 "nbformat_minor": 0
}
